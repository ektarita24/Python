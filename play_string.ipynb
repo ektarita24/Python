{
 "cells": [
  {
   "cell_type": "code",
   "execution_count": 3,
   "metadata": {},
   "outputs": [
    {
     "name": "stdout",
     "output_type": "stream",
     "text": [
      "Good Evening\n",
      "ekta's notebook\n",
      "\"Honesty is the best policy\"\n"
     ]
    }
   ],
   "source": [
    "msg = \"Good Evening\"\n",
    "name = 'ekta\\'s notebook' # escape the apostrophe\n",
    "commandment = \"\\\"Honesty is the best policy\\\"\"\n",
    "\n",
    "print(msg)\n",
    "print(name)\n",
    "print(commandment)"
   ]
  },
  {
   "cell_type": "code",
   "execution_count": 5,
   "metadata": {},
   "outputs": [
    {
     "name": "stdout",
     "output_type": "stream",
     "text": [
      "Good Evening to all\n",
      "Good Evening\n"
     ]
    }
   ],
   "source": [
    "full_msg = msg + ' to all'\n",
    "print(full_msg)\n",
    "print(msg) # will still print original string, as string objects are immutable in python "
   ]
  },
  {
   "cell_type": "code",
   "execution_count": 7,
   "metadata": {},
   "outputs": [
    {
     "name": "stdout",
     "output_type": "stream",
     "text": [
      "I will do my HW\n",
      "I will do my HW\n",
      "I will do my HW\n",
      "I will do my HW\n",
      "I will do my HW\n",
      "\n"
     ]
    }
   ],
   "source": [
    "teacher_msg = \"I will do my HW\\n\" * 5 # string repetition\n",
    "print(teacher_msg)"
   ]
  },
  {
   "cell_type": "code",
   "execution_count": 8,
   "metadata": {},
   "outputs": [
    {
     "name": "stdout",
     "output_type": "stream",
     "text": [
      "19\n"
     ]
    }
   ],
   "source": [
    "# length of string\n",
    "print(len(full_msg))"
   ]
  },
  {
   "cell_type": "code",
   "execution_count": 11,
   "metadata": {},
   "outputs": [
    {
     "name": "stdout",
     "output_type": "stream",
     "text": [
      "G\n",
      "l\n"
     ]
    }
   ],
   "source": [
    "# print a character\n",
    "print(full_msg[0])\n",
    "print(full_msg[len(full_msg)-1])"
   ]
  },
  {
   "cell_type": "code",
   "execution_count": 16,
   "metadata": {},
   "outputs": [
    {
     "name": "stdout",
     "output_type": "stream",
     "text": [
      "Evening\n",
      "Good\n",
      "to all\n"
     ]
    }
   ],
   "source": [
    "# substring\n",
    "print(full_msg[5:12])\n",
    "print(full_msg[:4])\n",
    "print(full_msg[13:])"
   ]
  },
  {
   "cell_type": "code",
   "execution_count": 23,
   "metadata": {},
   "outputs": [
    {
     "name": "stdout",
     "output_type": "stream",
     "text": [
      "Ekta rita\n",
      "Ekta Rita\n",
      "EKTA RITA\n",
      "False\n",
      "True\n",
      "5\n"
     ]
    },
    {
     "ename": "ValueError",
     "evalue": "substring not found",
     "output_type": "error",
     "traceback": [
      "\u001b[0;31m---------------------------------------------------------------------------\u001b[0m",
      "\u001b[0;31mValueError\u001b[0m                                Traceback (most recent call last)",
      "\u001b[0;32m<ipython-input-23-dff20c4e64c3>\u001b[0m in \u001b[0;36m<module>\u001b[0;34m()\u001b[0m\n\u001b[1;32m      8\u001b[0m \u001b[0;34m\u001b[0m\u001b[0m\n\u001b[1;32m      9\u001b[0m \u001b[0mprint\u001b[0m\u001b[0;34m(\u001b[0m\u001b[0mfull_name\u001b[0m\u001b[0;34m.\u001b[0m\u001b[0mindex\u001b[0m\u001b[0;34m(\u001b[0m\u001b[0;34m\"rita\"\u001b[0m\u001b[0;34m)\u001b[0m\u001b[0;34m)\u001b[0m\u001b[0;34m\u001b[0m\u001b[0m\n\u001b[0;32m---> 10\u001b[0;31m \u001b[0mprint\u001b[0m\u001b[0;34m(\u001b[0m\u001b[0mfull_name\u001b[0m\u001b[0;34m.\u001b[0m\u001b[0mindex\u001b[0m\u001b[0;34m(\u001b[0m\u001b[0;34m\"abc\"\u001b[0m\u001b[0;34m)\u001b[0m\u001b[0;34m)\u001b[0m\u001b[0;34m\u001b[0m\u001b[0m\n\u001b[0m",
      "\u001b[0;31mValueError\u001b[0m: substring not found"
     ]
    }
   ],
   "source": [
    "full_name = \"ekta rita\"\n",
    "print(full_name.capitalize())\n",
    "print(full_name.title())\n",
    "print(full_name.upper())\n",
    "\n",
    "print(full_name.endswith(\"to all\"))\n",
    "print(full_name.endswith(\"ta\"))\n",
    "\n",
    "print(full_name.index(\"rita\"))\n",
    "print(full_name.index(\"abc\"))"
   ]
  },
  {
   "cell_type": "code",
   "execution_count": 27,
   "metadata": {},
   "outputs": [
    {
     "name": "stdout",
     "output_type": "stream",
     "text": [
      "-1\n",
      "True\n",
      "False\n",
      "True\n"
     ]
    }
   ],
   "source": [
    "print(full_name.find(\"abc\")) # does not give an error like index function\n",
    "\n",
    "# python way of finding whether a string has a substring or not\n",
    "# they are case sensitive\n",
    "print(\"Evening\" in full_msg)\n",
    "print(\"Morning\" in full_msg)\n",
    "\n",
    "# case insensitive\n",
    "print(\"evening\" in full_msg.lower())"
   ]
  },
  {
   "cell_type": "code",
   "execution_count": 28,
   "metadata": {},
   "outputs": [
    {
     "name": "stdout",
     "output_type": "stream",
     "text": [
      "2\n"
     ]
    }
   ],
   "source": [
    "msg = \"good evening to all. Wish you all a good day ahead.\"\n",
    "print(msg.count(\"good\"))"
   ]
  },
  {
   "cell_type": "code",
   "execution_count": 30,
   "metadata": {},
   "outputs": [
    {
     "name": "stdout",
     "output_type": "stream",
     "text": [
      "False\n",
      "True\n"
     ]
    }
   ],
   "source": [
    "username = \"ekta24\"\n",
    "print(username.isalpha())\n",
    "print(username.isalnum())"
   ]
  },
  {
   "cell_type": "code",
   "execution_count": 1,
   "metadata": {},
   "outputs": [
    {
     "name": "stdout",
     "output_type": "stream",
     "text": [
      "Name : abc\n",
      "Roll : 1\n",
      "Gender : f\n"
     ]
    }
   ],
   "source": [
    "name = \"abc\"\n",
    "roll = 1\n",
    "gender = \"f\"\n",
    "\n",
    "print('Name : {0}\\nRoll : {1}\\nGender : {2}'.format(name, roll, gender))"
   ]
  },
  {
   "cell_type": "code",
   "execution_count": 2,
   "metadata": {},
   "outputs": [
    {
     "name": "stdout",
     "output_type": "stream",
     "text": [
      "Name : abc\n",
      "Roll : 1\n",
      "Gender : f\n"
     ]
    }
   ],
   "source": [
    "print('Name : {name}\\nRoll : {rollno}\\nGender : {gender}'.format(rollno = roll, name = name, gender = gender))"
   ]
  }
 ],
 "metadata": {
  "kernelspec": {
   "display_name": "Python 3",
   "language": "python",
   "name": "python3"
  },
  "language_info": {
   "codemirror_mode": {
    "name": "ipython",
    "version": 3
   },
   "file_extension": ".py",
   "mimetype": "text/x-python",
   "name": "python",
   "nbconvert_exporter": "python",
   "pygments_lexer": "ipython3",
   "version": "3.6.1"
  }
 },
 "nbformat": 4,
 "nbformat_minor": 2
}

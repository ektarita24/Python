{
 "cells": [
  {
   "cell_type": "code",
   "execution_count": 2,
   "metadata": {},
   "outputs": [
    {
     "name": "stdout",
     "output_type": "stream",
     "text": [
      "<class 'list'>\n",
      "[89, 94, 54]\n",
      "<class 'list'>\n",
      "[]\n"
     ]
    }
   ],
   "source": [
    "l1 = [89, 94, 54]\n",
    "print(type(l1))\n",
    "print(l1)\n",
    "\n",
    "l2 = []\n",
    "print(type(l2))\n",
    "print(l2)"
   ]
  },
  {
   "cell_type": "code",
   "execution_count": 3,
   "metadata": {},
   "outputs": [
    {
     "name": "stdout",
     "output_type": "stream",
     "text": [
      "3\n",
      "0\n"
     ]
    }
   ],
   "source": [
    "print(len(l1))\n",
    "print(len(l2))\n"
   ]
  },
  {
   "cell_type": "code",
   "execution_count": 4,
   "metadata": {},
   "outputs": [
    {
     "name": "stdout",
     "output_type": "stream",
     "text": [
      "94\n"
     ]
    }
   ],
   "source": [
    "print(l1[1])"
   ]
  },
  {
   "cell_type": "code",
   "execution_count": 6,
   "metadata": {},
   "outputs": [
    {
     "name": "stdout",
     "output_type": "stream",
     "text": [
      "[34, 78, 90]\n",
      "[78, 90, 100, 45, 56]\n"
     ]
    }
   ],
   "source": [
    "marks = [34, 78, 90, 100, 45, 56]\n",
    "print(marks[0:3])\n",
    "print(marks[-5:])"
   ]
  },
  {
   "cell_type": "code",
   "execution_count": 8,
   "metadata": {},
   "outputs": [
    {
     "name": "stdout",
     "output_type": "stream",
     "text": [
      "2\n",
      "0\n"
     ]
    }
   ],
   "source": [
    "marks = [90, 34, 78, 90, 100, 45, 56]\n",
    "print(marks.count(90))\n",
    "print(marks.count(0))"
   ]
  },
  {
   "cell_type": "code",
   "execution_count": 9,
   "metadata": {},
   "outputs": [
    {
     "name": "stdout",
     "output_type": "stream",
     "text": [
      "[90, 34, 78, 90, 100, 45, 56, 89, 76, 90, 100]\n",
      "[90, 34, 78, 90, 100, 45, 56]\n"
     ]
    }
   ],
   "source": [
    "more_marks = [89,76,90,100]\n",
    "final_marks = marks + more_marks\n",
    "print(final_marks)\n",
    "print(marks)"
   ]
  },
  {
   "cell_type": "code",
   "execution_count": 11,
   "metadata": {},
   "outputs": [
    {
     "name": "stdout",
     "output_type": "stream",
     "text": [
      "['audi', 'bmw', 'i20']\n",
      "['audi', 'bmw', 'i20', 'porsche', 'mercedes']\n"
     ]
    }
   ],
   "source": [
    "cars = ['audi', 'bmw']\n",
    "cars.append('i20')\n",
    "print(cars)\n",
    "\n",
    "more_cars = ['porsche','mercedes']\n",
    "cars.extend(more_cars)\n",
    "print(cars)"
   ]
  },
  {
   "cell_type": "code",
   "execution_count": 13,
   "metadata": {},
   "outputs": [
    {
     "name": "stdout",
     "output_type": "stream",
     "text": [
      "[90, 34, 78, 90, 100, 45, 56, 89, 76, 90, 100]\n",
      "100\n",
      "34\n"
     ]
    }
   ],
   "source": [
    "print(final_marks)\n",
    "print(max(final_marks))\n",
    "print(min(final_marks))"
   ]
  },
  {
   "cell_type": "code",
   "execution_count": 14,
   "metadata": {},
   "outputs": [
    {
     "name": "stdout",
     "output_type": "stream",
     "text": [
      "848\n"
     ]
    }
   ],
   "source": [
    "print(sum(final_marks))"
   ]
  },
  {
   "cell_type": "code",
   "execution_count": 15,
   "metadata": {},
   "outputs": [
    {
     "name": "stdout",
     "output_type": "stream",
     "text": [
      "audi\n",
      "bmw\n",
      "i20\n",
      "porsche\n",
      "mercedes\n"
     ]
    }
   ],
   "source": [
    "# loop over a list\n",
    "for car in cars:\n",
    "    print(car)"
   ]
  },
  {
   "cell_type": "code",
   "execution_count": 19,
   "metadata": {},
   "outputs": [
    {
     "name": "stdout",
     "output_type": "stream",
     "text": [
      "[34, 45, 56, 76, 78, 89, 90, 90, 90, 100, 100]\n",
      "[100, 100, 90, 90, 90, 89, 78, 76, 56, 45, 34]\n"
     ]
    }
   ],
   "source": [
    "final_marks.sort()\n",
    "print(final_marks)\n",
    "\n",
    "final_marks.sort(reverse=True)\n",
    "print(final_marks)"
   ]
  },
  {
   "cell_type": "code",
   "execution_count": 21,
   "metadata": {},
   "outputs": [
    {
     "name": "stdout",
     "output_type": "stream",
     "text": [
      "['audi', 'bmw', 'i20', 'porsche', 'mercedes']\n",
      "['audi', 'bmw', 'i10', 'mercedes']\n"
     ]
    }
   ],
   "source": [
    "print(cars)\n",
    "cars[2:4] = ['i10']\n",
    "print(cars)"
   ]
  },
  {
   "cell_type": "code",
   "execution_count": 22,
   "metadata": {},
   "outputs": [
    {
     "name": "stdout",
     "output_type": "stream",
     "text": [
      "['audi', 'bmw', 'mercedes']\n"
     ]
    }
   ],
   "source": [
    "cars = ['audi', 'bmw', 'i20', 'porsche', 'mercedes']\n",
    "cars[2:4] = []\n",
    "print(cars)"
   ]
  },
  {
   "cell_type": "code",
   "execution_count": 23,
   "metadata": {},
   "outputs": [
    {
     "name": "stdout",
     "output_type": "stream",
     "text": [
      "['audi', 'bmw', 'mercedes']\n",
      "[]\n"
     ]
    }
   ],
   "source": [
    "print(cars)\n",
    "cars[:]=[]\n",
    "print(cars)"
   ]
  },
  {
   "cell_type": "code",
   "execution_count": 25,
   "metadata": {},
   "outputs": [
    {
     "name": "stdout",
     "output_type": "stream",
     "text": [
      "[100, 100, 90, 90, 90, 89, 78, 76, 56, 45]\n",
      "45\n",
      "[100, 100, 90, 90, 90, 89, 78, 76, 56]\n"
     ]
    }
   ],
   "source": [
    "print(final_marks)\n",
    "print(final_marks.pop())\n",
    "print(final_marks)"
   ]
  },
  {
   "cell_type": "code",
   "execution_count": 26,
   "metadata": {},
   "outputs": [
    {
     "name": "stdout",
     "output_type": "stream",
     "text": [
      "89\n",
      "[100, 100, 90, 90, 90, 78, 76, 56]\n"
     ]
    }
   ],
   "source": [
    "print(final_marks.pop(5))\n",
    "print(final_marks)"
   ]
  },
  {
   "cell_type": "code",
   "execution_count": 27,
   "metadata": {},
   "outputs": [
    {
     "name": "stdout",
     "output_type": "stream",
     "text": [
      "[100, 100, 90, 90, 90, 78, 76, 56]\n",
      "[24, 100, 100, 90, 90, 90, 78, 76, 56]\n"
     ]
    }
   ],
   "source": [
    "print(final_marks)\n",
    "final_marks.insert(0,24)\n",
    "print(final_marks)"
   ]
  }
 ],
 "metadata": {
  "kernelspec": {
   "display_name": "Python 3",
   "language": "python",
   "name": "python3"
  },
  "language_info": {
   "codemirror_mode": {
    "name": "ipython",
    "version": 3
   },
   "file_extension": ".py",
   "mimetype": "text/x-python",
   "name": "python",
   "nbconvert_exporter": "python",
   "pygments_lexer": "ipython3",
   "version": "3.6.1"
  }
 },
 "nbformat": 4,
 "nbformat_minor": 2
}

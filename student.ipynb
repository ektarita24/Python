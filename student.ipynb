{
 "cells": [
  {
   "cell_type": "code",
   "execution_count": 1,
   "metadata": {
    "collapsed": true
   },
   "outputs": [],
   "source": [
    "\"\"\"\n",
    "This will have the class definition for Student\n",
    "\"\"\"\n",
    "\n",
    "class Student:\n",
    "\tcount = 0  #Class attribute\n",
    "\t\n",
    "\tdef __init__(self,name,rollno,gender,marks):\n",
    "\t\t# instance attribute\n",
    "\t\tself.name = name\n",
    "\t\tself.rollno = rollno\n",
    "\t\tself.gender = gender\n",
    "\t\tself.marks = marks\n",
    "\t\tStudent.count += 1\n",
    "\n",
    "\tdef displayDetails(self):\n",
    "\t\tprint(\"Name : \"+str(self.name))\n",
    "\t\tprint(\"Rollno : \"+str(self.rollno))\n",
    "\t\tprint(\"Gender : \"+str(self.gender))\n",
    "\t\tprint(\"Marks : \"+str(self.marks))\n",
    "\n",
    "\tdef calculateGrade(self):\n",
    "\t\tif self.marks>=70 and self.marks<=100:\n",
    "\t\t\treturn \"A\"\n",
    "\t\telif self.marks>=60 and self.marks<70:\n",
    "\t\t\treturn \"B\"\n",
    "\t\telif self.marks>=40 and self.marks<60:\n",
    "\t\t\treturn \"C\"\n",
    "\t\telif self.marks>=0 and self.marks<40:\n",
    "\t\t\treturn \"F\"\n",
    "\t\telse:\n",
    "\t\t\treturn \"I\"\n",
    "\n",
    "\tdef getCount():\n",
    "\t\treturn Student.count\n",
    "    "
   ]
  },
  {
   "cell_type": "code",
   "execution_count": 2,
   "metadata": {},
   "outputs": [
    {
     "name": "stdout",
     "output_type": "stream",
     "text": [
      "0\n",
      "2\n"
     ]
    }
   ],
   "source": [
    "print(Student.getCount())\n",
    "s1 = Student(\"ABC\",1,\"F\",78)\n",
    "s2 = Student(\"DEF\",2,\"M\",89.5)\n",
    "print(Student.getCount())"
   ]
  },
  {
   "cell_type": "code",
   "execution_count": 3,
   "metadata": {},
   "outputs": [
    {
     "name": "stdout",
     "output_type": "stream",
     "text": [
      "2\n"
     ]
    }
   ],
   "source": [
    "del s1\n",
    "print(Student.getCount())\n",
    "# it still shows the count as 2, we want it to be 1 as no reference to the student object pointed by s1"
   ]
  },
  {
   "cell_type": "code",
   "execution_count": 5,
   "metadata": {},
   "outputs": [],
   "source": [
    "\"\"\"\n",
    "This will have the class definition for Student\n",
    "\"\"\"\n",
    "\n",
    "class Student:\n",
    "\tcount = 0  #Class attribute\n",
    "\t\n",
    "\tdef __init__(self,name,rollno,gender,marks):\n",
    "\t\t# instance attribute\n",
    "\t\tself.name = name\n",
    "\t\tself.rollno = rollno\n",
    "\t\tself.gender = gender\n",
    "\t\tself.marks = marks\n",
    "\t\tStudent.count += 1\n",
    "        \n",
    "\tdef __del__(self):\n",
    "\t\tStudent.count -= 1\n",
    "\n",
    "\tdef displayDetails(self):\n",
    "\t\tprint(\"Name : \"+str(self.name))\n",
    "\t\tprint(\"Rollno : \"+str(self.rollno))\n",
    "\t\tprint(\"Gender : \"+str(self.gender))\n",
    "\t\tprint(\"Marks : \"+str(self.marks))\n",
    "\n",
    "\tdef calculateGrade(self):\n",
    "\t\tif self.marks>=70 and self.marks<=100:\n",
    "\t\t\treturn \"A\"\n",
    "\t\telif self.marks>=60 and self.marks<70:\n",
    "\t\t\treturn \"B\"\n",
    "\t\telif self.marks>=40 and self.marks<60:\n",
    "\t\t\treturn \"C\"\n",
    "\t\telif self.marks>=0 and self.marks<40:\n",
    "\t\t\treturn \"F\"\n",
    "\t\telse:\n",
    "\t\t\treturn \"I\"\n",
    "\n",
    "\tdef getCount():\n",
    "\t\treturn Student.count\n",
    "     "
   ]
  },
  {
   "cell_type": "code",
   "execution_count": 6,
   "metadata": {},
   "outputs": [
    {
     "name": "stdout",
     "output_type": "stream",
     "text": [
      "0\n"
     ]
    }
   ],
   "source": [
    "print(Student.getCount())\n",
    "# Since a student class is created"
   ]
  },
  {
   "cell_type": "code",
   "execution_count": 7,
   "metadata": {},
   "outputs": [
    {
     "name": "stdout",
     "output_type": "stream",
     "text": [
      "2\n"
     ]
    }
   ],
   "source": [
    "s1 = Student(\"ABC\",1,\"M\",89)\n",
    "s2 = Student(\"DEF\",2,\"F\",99)\n",
    "print(Student.getCount())"
   ]
  },
  {
   "cell_type": "code",
   "execution_count": 8,
   "metadata": {},
   "outputs": [
    {
     "name": "stdout",
     "output_type": "stream",
     "text": [
      "1\n"
     ]
    }
   ],
   "source": [
    "del s1\n",
    "print(Student.getCount())"
   ]
  },
  {
   "cell_type": "code",
   "execution_count": 9,
   "metadata": {},
   "outputs": [
    {
     "name": "stdout",
     "output_type": "stream",
     "text": [
      "0\n"
     ]
    }
   ],
   "source": [
    "del s2\n",
    "print(Student.getCount())"
   ]
  }
 ],
 "metadata": {
  "kernelspec": {
   "display_name": "Python 3",
   "language": "python",
   "name": "python3"
  },
  "language_info": {
   "codemirror_mode": {
    "name": "ipython",
    "version": 3
   },
   "file_extension": ".py",
   "mimetype": "text/x-python",
   "name": "python",
   "nbconvert_exporter": "python",
   "pygments_lexer": "ipython3",
   "version": "3.6.1"
  }
 },
 "nbformat": 4,
 "nbformat_minor": 2
}

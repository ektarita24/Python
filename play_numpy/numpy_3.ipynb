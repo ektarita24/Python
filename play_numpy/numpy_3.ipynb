{
 "cells": [
  {
   "cell_type": "code",
   "execution_count": 2,
   "metadata": {
    "collapsed": true
   },
   "outputs": [],
   "source": [
    "import numpy as np"
   ]
  },
  {
   "cell_type": "code",
   "execution_count": 4,
   "metadata": {},
   "outputs": [
    {
     "name": "stdout",
     "output_type": "stream",
     "text": [
      "[[ 3.  4.  5.]\n",
      " [ 6.  7.  8.]\n",
      " [ 9.  4.  2.]]\n",
      "<class 'numpy.ndarray'>\n",
      "2\n",
      "(3, 3)\n"
     ]
    }
   ],
   "source": [
    "#load data from file into numpy array\n",
    "n1 = np.loadtxt('/home/bloombench/Documents/PythonPrograms/m_matrix',delimiter=',')\n",
    "print(n1)\n",
    "print(type(n1))\n",
    "print(n1.ndim)\n",
    "print(n1.shape)"
   ]
  },
  {
   "cell_type": "code",
   "execution_count": 6,
   "metadata": {},
   "outputs": [
    {
     "name": "stdout",
     "output_type": "stream",
     "text": [
      "[[ 1.  1.  2.]\n",
      " [ 3.  2.  4.]\n",
      " [ 5.  6.  7.]]\n",
      "<class 'numpy.ndarray'>\n",
      "2\n",
      "(3, 3)\n"
     ]
    }
   ],
   "source": [
    "n2= np.loadtxt('/home/bloombench/Documents/PythonPrograms/n_matrix',delimiter=',')\n",
    "print(n2)\n",
    "print(type(n2))\n",
    "print(n2.ndim)\n",
    "print(n2.shape)"
   ]
  },
  {
   "cell_type": "code",
   "execution_count": 7,
   "metadata": {},
   "outputs": [
    {
     "data": {
      "text/plain": [
       "array([[  4.,   5.,   7.],\n",
       "       [  9.,   9.,  12.],\n",
       "       [ 14.,  10.,   9.]])"
      ]
     },
     "execution_count": 7,
     "metadata": {},
     "output_type": "execute_result"
    }
   ],
   "source": [
    "n1 + n2"
   ]
  },
  {
   "cell_type": "code",
   "execution_count": 9,
   "metadata": {},
   "outputs": [
    {
     "data": {
      "text/plain": [
       "array([[ 40.,  41.,  57.],\n",
       "       [ 67.,  68.,  96.],\n",
       "       [ 31.,  29.,  48.]])"
      ]
     },
     "execution_count": 9,
     "metadata": {},
     "output_type": "execute_result"
    }
   ],
   "source": [
    "n3 = np.dot(n1,n2) # matrix multiplication\n",
    "n3"
   ]
  },
  {
   "cell_type": "code",
   "execution_count": 13,
   "metadata": {
    "collapsed": true
   },
   "outputs": [],
   "source": [
    "np.save('/home/bloombench/Documents/PythonPrograms/output',n3) # save in compressed binary form"
   ]
  },
  {
   "cell_type": "code",
   "execution_count": 14,
   "metadata": {},
   "outputs": [
    {
     "data": {
      "text/plain": [
       "array([[ 40.,  41.,  57.],\n",
       "       [ 67.,  68.,  96.],\n",
       "       [ 31.,  29.,  48.]])"
      ]
     },
     "execution_count": 14,
     "metadata": {},
     "output_type": "execute_result"
    }
   ],
   "source": [
    "n4 = np.load('/home/bloombench/Documents/PythonPrograms/output.npy') # load from binary\n",
    "n4"
   ]
  },
  {
   "cell_type": "code",
   "execution_count": 25,
   "metadata": {},
   "outputs": [
    {
     "name": "stdout",
     "output_type": "stream",
     "text": [
      "[[ 50.  70.  40.]\n",
      " [ 90.  34.  70.]\n",
      " [ 45.  67.  89.]]\n"
     ]
    }
   ],
   "source": [
    "marks = np.loadtxt('/home/bloombench/Documents/PythonPrograms/marks',delimiter=',')\n",
    "print(marks)"
   ]
  },
  {
   "cell_type": "code",
   "execution_count": 3,
   "metadata": {},
   "outputs": [
    {
     "data": {
      "text/plain": [
       "array([  1.,   0.,  10.,   5.,   6.,   8.,   0.,  10.,   8.])"
      ]
     },
     "execution_count": 3,
     "metadata": {},
     "output_type": "execute_result"
    }
   ],
   "source": [
    "correction = np.loadtxt('/home/bloombench/Documents/PythonPrograms/correction_to_add',delimiter=',')\n",
    "correction"
   ]
  },
  {
   "cell_type": "code",
   "execution_count": 27,
   "metadata": {},
   "outputs": [
    {
     "data": {
      "text/plain": [
       "array([[ 51.,  70.,  50.],\n",
       "       [ 95.,  40.,  78.],\n",
       "       [ 45.,  77.,  97.]])"
      ]
     },
     "execution_count": 27,
     "metadata": {},
     "output_type": "execute_result"
    }
   ],
   "source": [
    "new_marks = (marks.flatten() + correction).reshape(3,3) # flatten-`converts n dimension to 1 dimension\n",
    "new_marks"
   ]
  },
  {
   "cell_type": "code",
   "execution_count": 26,
   "metadata": {},
   "outputs": [
    {
     "data": {
      "text/plain": [
       "array([[ 51.,  70.,  50.],\n",
       "       [ 95.,  40.,  78.],\n",
       "       [ 45.,  77.,  97.]])"
      ]
     },
     "execution_count": 26,
     "metadata": {},
     "output_type": "execute_result"
    }
   ],
   "source": [
    "correction.reshape(3,3)+marks"
   ]
  }
 ],
 "metadata": {
  "kernelspec": {
   "display_name": "Python 3",
   "language": "python",
   "name": "python3"
  },
  "language_info": {
   "codemirror_mode": {
    "name": "ipython",
    "version": 3
   },
   "file_extension": ".py",
   "mimetype": "text/x-python",
   "name": "python",
   "nbconvert_exporter": "python",
   "pygments_lexer": "ipython3",
   "version": "3.6.1"
  }
 },
 "nbformat": 4,
 "nbformat_minor": 2
}

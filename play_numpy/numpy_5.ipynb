{
 "cells": [
  {
   "cell_type": "code",
   "execution_count": 1,
   "metadata": {
    "collapsed": true
   },
   "outputs": [],
   "source": [
    "import numpy as np"
   ]
  },
  {
   "cell_type": "code",
   "execution_count": 22,
   "metadata": {},
   "outputs": [],
   "source": [
    "data_type = np.dtype([('Email','S30'),('Date','S20'),('Time','S10'),('State','S3')])"
   ]
  },
  {
   "cell_type": "code",
   "execution_count": 23,
   "metadata": {},
   "outputs": [
    {
     "data": {
      "text/plain": [
       "array([(b'mehul.chopra@neebal.com', b'2015-03-01', b'4:30', b'in'),\n",
       "       (b'narendra.modi@yahoo.com', b'2015-03-01', b'4:35', b'in'),\n",
       "       (b'katrina.kaif@gmail.com', b'2015-03-01', b'4:36', b'in'),\n",
       "       (b'mehul.chopra@neebal.com', b'2015-03-01', b'4:45', b'out'),\n",
       "       (b'narendra.modi@yahoo.com', b'2015-03-01', b'4:50', b'out'),\n",
       "       (b'mehul.chopra@neebal.com', b'2015-03-02', b'5:30', b'in'),\n",
       "       (b'mehul.chopra@neebal.com', b'2015-03-02', b'5:45', b'out'),\n",
       "       (b'mehul.chopra@neebal.com', b'2015-03-02', b'6:00', b'in'),\n",
       "       (b'mehul.chopra@neebal.com', b'2015-03-02', b'7:30', b'out'),\n",
       "       (b'katrina.kaif@gmail.com', b'2015-03-02', b'18:00', b'out'),\n",
       "       (b'narendra.modi@yahoo.com', b'2015-03-03', b'10:30', b'in'),\n",
       "       (b'narendra.modi@yahoo.com', b'2015-03-03', b'10:45', b'out'),\n",
       "       (b'katrina.kaif@gmail.com', b'2015-03-03', b'11:00', b'in'),\n",
       "       (b'narendra.modi@yahoo.com', b'2015-03-03', b'11:30', b'in'),\n",
       "       (b'mehul.chopra@neebal.com', b'2015-03-03', b'1:30', b'in'),\n",
       "       (b'narendra.modi@yahoo.com', b'2015-03-03', b'2:30', b'out'),\n",
       "       (b'katrina.kaif@gmail.com', b'2015-03-03', b'2:30', b'out'),\n",
       "       (b'mehul.chopra@neebal.com', b'2015-03-03', b'2:45', b'out')], \n",
       "      dtype=[('Email', 'S30'), ('Date', 'S20'), ('Time', 'S10'), ('State', 'S3')])"
      ]
     },
     "execution_count": 23,
     "metadata": {},
     "output_type": "execute_result"
    }
   ],
   "source": [
    "data = np.loadtxt('/home/bloombench/Documents/Ekta-Hadoop/hadoop-kit/data/facebook_logs/facebook_login_logout_logs',dtype=data_type,delimiter=',')\n",
    "data"
   ]
  },
  {
   "cell_type": "code",
   "execution_count": 26,
   "metadata": {},
   "outputs": [
    {
     "data": {
      "text/plain": [
       "False"
      ]
     },
     "execution_count": 26,
     "metadata": {},
     "output_type": "execute_result"
    }
   ],
   "source": [
    "data['State']==\"b'in'\""
   ]
  }
 ],
 "metadata": {
  "kernelspec": {
   "display_name": "Python 3",
   "language": "python",
   "name": "python3"
  },
  "language_info": {
   "codemirror_mode": {
    "name": "ipython",
    "version": 3
   },
   "file_extension": ".py",
   "mimetype": "text/x-python",
   "name": "python",
   "nbconvert_exporter": "python",
   "pygments_lexer": "ipython3",
   "version": "3.6.1"
  }
 },
 "nbformat": 4,
 "nbformat_minor": 2
}

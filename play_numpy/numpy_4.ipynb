{
 "cells": [
  {
   "cell_type": "code",
   "execution_count": 1,
   "metadata": {
    "collapsed": true
   },
   "outputs": [],
   "source": [
    "import numpy as np"
   ]
  },
  {
   "cell_type": "code",
   "execution_count": 6,
   "metadata": {},
   "outputs": [],
   "source": [
    "data_type = np.dtype([('Name','U20'),('Physics',np.float16),('Chemistry',np.float16),('Maths',np.float16)])"
   ]
  },
  {
   "cell_type": "code",
   "execution_count": 7,
   "metadata": {},
   "outputs": [
    {
     "data": {
      "text/plain": [
       "array([(\"b'abc'\",  94.,   93.,  97.), (\"b'def'\",  90.,   92.,  95.),\n",
       "       (\"b'ghi'\",  99.,  100.,  93.), (\"b'jkl'\",  96.,   87.,  90.),\n",
       "       (\"b'mno'\",  80.,   78.,  89.)], \n",
       "      dtype=[('Name', '<U20'), ('Physics', '<f2'), ('Chemistry', '<f2'), ('Maths', '<f2')])"
      ]
     },
     "execution_count": 7,
     "metadata": {},
     "output_type": "execute_result"
    }
   ],
   "source": [
    "n1 = np.loadtxt('/home/bloombench/Documents/PythonPrograms/student_marks',dtype=data_type,delimiter=',')\n",
    "n1"
   ]
  },
  {
   "cell_type": "code",
   "execution_count": 8,
   "metadata": {},
   "outputs": [
    {
     "data": {
      "text/plain": [
       "array([ 94.,  90.,  99.,  96.,  80.], dtype=float16)"
      ]
     },
     "execution_count": 8,
     "metadata": {},
     "output_type": "execute_result"
    }
   ],
   "source": [
    "n1['Physics']"
   ]
  },
  {
   "cell_type": "code",
   "execution_count": 9,
   "metadata": {},
   "outputs": [
    {
     "data": {
      "text/plain": [
       "array([ 94.,  90.], dtype=float16)"
      ]
     },
     "execution_count": 9,
     "metadata": {},
     "output_type": "execute_result"
    }
   ],
   "source": [
    "n1['Physics'][0:2]"
   ]
  },
  {
   "cell_type": "code",
   "execution_count": 10,
   "metadata": {},
   "outputs": [
    {
     "data": {
      "text/plain": [
       "91.812"
      ]
     },
     "execution_count": 10,
     "metadata": {},
     "output_type": "execute_result"
    }
   ],
   "source": [
    "np.average(n1['Physics'])"
   ]
  },
  {
   "cell_type": "code",
   "execution_count": 21,
   "metadata": {},
   "outputs": [
    {
     "data": {
      "text/plain": [
       "array([ 284.,  277.,  292.,  273.,  247.], dtype=float16)"
      ]
     },
     "execution_count": 21,
     "metadata": {},
     "output_type": "execute_result"
    }
   ],
   "source": [
    "total_marks = n1['Physics']+n1['Chemistry']+n1['Maths']\n",
    "total_marks"
   ]
  },
  {
   "cell_type": "code",
   "execution_count": 23,
   "metadata": {},
   "outputs": [
    {
     "data": {
      "text/plain": [
       "array([\"b'abc'\", \"b'def'\", \"b'ghi'\", \"b'jkl'\", \"b'mno'\"], \n",
       "      dtype='<U20')"
      ]
     },
     "execution_count": 23,
     "metadata": {},
     "output_type": "execute_result"
    }
   ],
   "source": [
    "n1['Name']"
   ]
  },
  {
   "cell_type": "code",
   "execution_count": 24,
   "metadata": {
    "collapsed": true
   },
   "outputs": [],
   "source": [
    "np.savez('/home/bloombench/Documents/PythonPrograms/student_total_marks',a=n1['Name'],b=total_marks)"
   ]
  },
  {
   "cell_type": "code",
   "execution_count": 25,
   "metadata": {},
   "outputs": [
    {
     "name": "stdout",
     "output_type": "stream",
     "text": [
      "[\"b'abc'\" \"b'def'\" \"b'ghi'\" \"b'jkl'\" \"b'mno'\"]\n",
      "[ 284.  277.  292.  273.  247.]\n"
     ]
    }
   ],
   "source": [
    "ab = np.load('/home/bloombench/Documents/PythonPrograms/student_total_marks.npz')\n",
    "\n",
    "print(ab['a'])\n",
    "print(ab['b'])"
   ]
  }
 ],
 "metadata": {
  "kernelspec": {
   "display_name": "Python 3",
   "language": "python",
   "name": "python3"
  },
  "language_info": {
   "codemirror_mode": {
    "name": "ipython",
    "version": 3
   },
   "file_extension": ".py",
   "mimetype": "text/x-python",
   "name": "python",
   "nbconvert_exporter": "python",
   "pygments_lexer": "ipython3",
   "version": "3.6.1"
  }
 },
 "nbformat": 4,
 "nbformat_minor": 2
}

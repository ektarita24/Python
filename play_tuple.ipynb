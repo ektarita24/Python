{
 "cells": [
  {
   "cell_type": "code",
   "execution_count": 7,
   "metadata": {},
   "outputs": [
    {
     "name": "stdout",
     "output_type": "stream",
     "text": [
      "<class 'tuple'>\n",
      "('ABC', 10, 75.5)\n",
      "3\n",
      "ABC\n",
      "ABC\n",
      "10\n",
      "75.5\n"
     ]
    }
   ],
   "source": [
    "s = ('ABC',10,75.5)\n",
    "print(type(s))\n",
    "print(s)\n",
    "print(len(s))\n",
    "print(s[0])\n",
    "\n",
    "for i in s:\n",
    "    print(i)"
   ]
  },
  {
   "cell_type": "code",
   "execution_count": 8,
   "metadata": {},
   "outputs": [
    {
     "ename": "TypeError",
     "evalue": "'tuple' object does not support item assignment",
     "output_type": "error",
     "traceback": [
      "\u001b[0;31m---------------------------------------------------------------------------\u001b[0m",
      "\u001b[0;31mTypeError\u001b[0m                                 Traceback (most recent call last)",
      "\u001b[0;32m<ipython-input-8-cfacfd0476f4>\u001b[0m in \u001b[0;36m<module>\u001b[0;34m()\u001b[0m\n\u001b[0;32m----> 1\u001b[0;31m \u001b[0ms\u001b[0m\u001b[0;34m[\u001b[0m\u001b[0;36m0\u001b[0m\u001b[0;34m]\u001b[0m \u001b[0;34m=\u001b[0m \u001b[0;34m\"PQR\"\u001b[0m\u001b[0;34m\u001b[0m\u001b[0m\n\u001b[0m",
      "\u001b[0;31mTypeError\u001b[0m: 'tuple' object does not support item assignment"
     ]
    }
   ],
   "source": [
    "s[0] = \"PQR\""
   ]
  },
  {
   "cell_type": "code",
   "execution_count": 12,
   "metadata": {},
   "outputs": [
    {
     "name": "stdout",
     "output_type": "stream",
     "text": [
      "<class 'tuple'>\n",
      "0\n",
      "<class 'tuple'>\n",
      "9\n",
      "<class 'tuple'>\n",
      "39\n"
     ]
    }
   ],
   "source": [
    "def super_add(*nos):\n",
    "    print(type(nos))\n",
    "    sum = 0\n",
    "    for no in nos:\n",
    "        sum+=no\n",
    "    return sum\n",
    "        \n",
    "print(super_add())\n",
    "print(super_add(4, 3, 2))\n",
    "print(super_add(5, 7, 8, 9, 10))"
   ]
  },
  {
   "cell_type": "code",
   "execution_count": 14,
   "metadata": {},
   "outputs": [
    {
     "name": "stdout",
     "output_type": "stream",
     "text": [
      "22\n",
      "22\n",
      "30\n"
     ]
    }
   ],
   "source": [
    "def perimeter(length,breadth):\n",
    "    return 2 * (length + breadth)\n",
    "\n",
    "stats = (9, 2)\n",
    "print(perimeter(stats[0],stats[1]))\n",
    "print(perimeter(*stats))\n",
    "\n",
    "statistics = [10,5]\n",
    "print(perimeter(*statistics))"
   ]
  }
 ],
 "metadata": {
  "kernelspec": {
   "display_name": "Python 3",
   "language": "python",
   "name": "python3"
  },
  "language_info": {
   "codemirror_mode": {
    "name": "ipython",
    "version": 3
   },
   "file_extension": ".py",
   "mimetype": "text/x-python",
   "name": "python",
   "nbconvert_exporter": "python",
   "pygments_lexer": "ipython3",
   "version": "3.6.1"
  }
 },
 "nbformat": 4,
 "nbformat_minor": 2
}
